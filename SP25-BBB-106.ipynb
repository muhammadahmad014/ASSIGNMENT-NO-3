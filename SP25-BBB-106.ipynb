{
 "cells": [
  {
   "cell_type": "markdown",
   "id": "0faa34b7-c1e8-48aa-9212-b806a7fbc874",
   "metadata": {},
   "source": [
    " MUHAMMAD AHMAD\n",
    "(SP25-BBD-106)"
   ]
  },
  {
   "cell_type": "markdown",
   "id": "e60c06c2-3b1e-4a0f-bf9d-beb0befc0d26",
   "metadata": {},
   "source": [
    "QUESTION NO 1"
   ]
  },
  {
   "cell_type": "code",
   "execution_count": 3,
   "id": "77407608-95a7-428c-9cf4-ce22a46d4d40",
   "metadata": {},
   "outputs": [
    {
     "name": "stdout",
     "output_type": "stream",
     "text": [
      "[0, 1, 1, 2, 3, 5, 8, 13, 21, 34]\n"
     ]
    }
   ],
   "source": [
    "\n",
    "fibonacci = [0, 1]\n",
    "for i in range(2, 10):\n",
    "    next_element = fibonacci[-1] + fibonacci[-2]\n",
    "    fibonacci.append(next_element)\n",
    "\n",
    "print(fibonacci)\n"
   ]
  },
  {
   "cell_type": "markdown",
   "id": "81741765-694d-492e-9f5c-2e6e447ba447",
   "metadata": {},
   "source": [
    "QUESTION NO 2"
   ]
  },
  {
   "cell_type": "code",
   "execution_count": 6,
   "id": "4f08166f-8849-4a50-bf94-7f0792e25969",
   "metadata": {},
   "outputs": [
    {
     "name": "stdout",
     "output_type": "stream",
     "text": [
      "[2, 3, 5, 7, 11, 13, 17, 19, 23, 29, 31, 37, 41, 43, 47, 53, 59, 61, 67, 71, 73, 79, 83, 89, 97]\n"
     ]
    }
   ],
   "source": [
    "\n",
    "primes = []\n",
    "for num in range(2, 101):\n",
    "    is_prime = True\n",
    "    for i in range(2, int(num**0.5)+1):\n",
    "        if num % i == 0:\n",
    "            is_prime = False\n",
    "            break\n",
    "    if is_prime:\n",
    "        primes.append(num)                                                                                                                                       \n",
    "print(primes)\n",
    "\n"
   ]
  },
  {
   "cell_type": "markdown",
   "id": "55860f33-39db-4c0b-8b55-2e9e0c04c5b8",
   "metadata": {},
   "source": [
    "QUESTION NO 3"
   ]
  },
  {
   "cell_type": "code",
   "execution_count": 5,
   "id": "72640e2c-f6a7-434a-9537-dfedb91064d4",
   "metadata": {},
   "outputs": [
    {
     "name": "stdin",
     "output_type": "stream",
     "text": [
      "Enter your age:  3\n"
     ]
    },
    {
     "name": "stdout",
     "output_type": "stream",
     "text": [
      "The movie theatre ticket costs $10.\n"
     ]
    },
    {
     "name": "stdin",
     "output_type": "stream",
     "text": [
      "Enter your age:  31\n"
     ]
    },
    {
     "name": "stdout",
     "output_type": "stream",
     "text": [
      "The movie theatre ticket costs $15.\n"
     ]
    },
    {
     "name": "stdin",
     "output_type": "stream",
     "text": [
      "Enter your age:  2\n"
     ]
    },
    {
     "name": "stdout",
     "output_type": "stream",
     "text": [
      "No ticket required for children under 3 years.\n"
     ]
    },
    {
     "name": "stdin",
     "output_type": "stream",
     "text": [
      "Enter your age:  5\n"
     ]
    },
    {
     "name": "stdout",
     "output_type": "stream",
     "text": [
      "The movie theatre ticket costs $10.\n"
     ]
    },
    {
     "name": "stdin",
     "output_type": "stream",
     "text": [
      "Enter your age:  56\n"
     ]
    },
    {
     "name": "stdout",
     "output_type": "stream",
     "text": [
      "The movie theatre ticket costs $15.\n"
     ]
    }
   ],
   "source": [
    "\n",
    "for i in range(5):\n",
    "    age = int(input(\"Enter your age: \"))\n",
    "    if age < 3:\n",
    "        print(\"No ticket required for children under 3 years.\")\n",
    "    elif age <= 12:\n",
    "        print(\"The movie theatre ticket costs $10.\")\n",
    "    else:\n",
    "        print(\"The movie theatre ticket costs $15.\")\n"
   ]
  },
  {
   "cell_type": "markdown",
   "id": "635aea6d-07cb-424f-8226-546409904a01",
   "metadata": {},
   "source": [
    "PART (2)"
   ]
  },
  {
   "cell_type": "code",
   "execution_count": 10,
   "id": "4a4ff274-3d9d-41a7-9414-d892403b0c65",
   "metadata": {},
   "outputs": [
    {
     "name": "stdin",
     "output_type": "stream",
     "text": [
      "Enter your age:  56\n"
     ]
    },
    {
     "name": "stdout",
     "output_type": "stream",
     "text": [
      "The movie theatre ticket costs $15.\n"
     ]
    },
    {
     "name": "stdin",
     "output_type": "stream",
     "text": [
      "Would you like to enter another age? Enter 'no' to quit:  15\n",
      "Enter your age:  5\n"
     ]
    },
    {
     "name": "stdout",
     "output_type": "stream",
     "text": [
      "The movie theatre ticket costs $10.\n"
     ]
    },
    {
     "name": "stdin",
     "output_type": "stream",
     "text": [
      "Would you like to enter another age? Enter 'no' to quit:  no\n"
     ]
    }
   ],
   "source": [
    "#Ticket pricing - using active variable\n",
    "active = True\n",
    "while active:\n",
    "    age = int(input(\"Enter your age: \"))\n",
    "    if age < 3:\n",
    "        print(\"No ticket required for children under 3 years.\")\n",
    "    elif age <= 12:\n",
    "        print(\"The movie theatre ticket costs $10.\")\n",
    "    else:\n",
    "        print(\"The movie theatre ticket costs $15.\")\n",
    "    \n",
    "    continue_prompt = input(\"Would you like to enter another age? Enter 'no' to quit: \")\n",
    "    if continue_prompt.lower() == 'no':\n",
    "        active = False\n"
   ]
  },
  {
   "cell_type": "markdown",
   "id": "44ded7f3-e6b7-4264-947f-b2c5ff97f0be",
   "metadata": {},
   "source": [
    "QUESTION NO 4"
   ]
  },
  {
   "cell_type": "code",
   "execution_count": 16,
   "id": "491d40af-753c-4c5e-b238-e6df8efa5e01",
   "metadata": {
    "scrolled": true
   },
   "outputs": [
    {
     "name": "stdout",
     "output_type": "stream",
     "text": [
      "The city selected is Lahore\n",
      "Its information is given below\n",
      "country: Pakistan, landmark: Minar-e-Pakistan, university: CUI Lahore Campus\n",
      "\n",
      "The city selected is Karachi\n",
      "Its information is given below\n",
      "country: Pakistan, landmark: Mazar-e-Quaid, university: Agha Khan University\n",
      "\n",
      "The city selected is Islamabad\n",
      "Its information is given below\n",
      "country: Pakistan, landmark: Faisal Mosque, university: NUST\n",
      "\n",
      "The city selected is Peshawar\n",
      "Its information is given below\n",
      "country: Pakistan, landmark: Bala Hisar Fort, university: University of Peshawar\n",
      "\n",
      "The city selected is Quetta\n",
      "Its information is given below\n",
      "country: Pakistan, landmark: Hanna Lake, university: University of Balochistan\n",
      "\n"
     ]
    }
   ],
   "source": [
    "# Q4: Cities dictionary\n",
    "cities = {\n",
    "    'Lahore': {'country': 'Pakistan', 'landmark': 'Minar-e-Pakistan', 'university': 'CUI Lahore Campus'},\n",
    "    'Karachi': {'country': 'Pakistan', 'landmark': 'Mazar-e-Quaid', 'university': 'Agha Khan University'},\n",
    "    'Islamabad': {'country': 'Pakistan', 'landmark': 'Faisal Mosque', 'university': 'NUST'},\n",
    "    'Peshawar': {'country': 'Pakistan', 'landmark': 'Bala Hisar Fort', 'university': 'University of Peshawar'},\n",
    "    'Quetta': {'country': 'Pakistan', 'landmark': 'Hanna Lake', 'university': 'University of Balochistan'}\n",
    "}\n",
    "\n",
    "for city, info in cities.items():\n",
    "    print(f\"The city selected is {city}\")\n",
    "    print(\"Its information is given below\")\n",
    "    print(f\"country: {info['country']}, landmark: {info['landmark']}, university: {info['university']}\\n\")\n"
   ]
  },
  {
   "cell_type": "markdown",
   "id": "86b63a45-c6bf-4872-8e5a-40bf3df5937c",
   "metadata": {},
   "source": [
    "QUESTION NO 5"
   ]
  },
  {
   "cell_type": "code",
   "execution_count": 21,
   "id": "7b354a16-6f4c-44ab-bb4a-f457e9405099",
   "metadata": {},
   "outputs": [
    {
     "name": "stdout",
     "output_type": "stream",
     "text": [
      "Person name:  Ahmed\n",
      "Maximum value:  230\n",
      "\n",
      "Person name:  Ali\n",
      "Maximum value:  75\n",
      "\n",
      "Person name:  Sara\n",
      "Maximum value:  100\n",
      "\n",
      "Person name:  Zain\n",
      "Maximum value:  91\n",
      "\n"
     ]
    }
   ],
   "source": [
    "# Q5: Favorite numbers dictionary\n",
    "persons = {\n",
    "    'Ahmed': [23, 45, 76, 12, 230],\n",
    "    'Ali': [5, 0, 26, 75, 13],\n",
    "    'Sara': [34, 89, 12, 99, 100],\n",
    "    'Zain': [9, 67, 45, 88, 91]\n",
    "}\n",
    "\n",
    "for name, numbers in persons.items():\n",
    "    print(f\"Person name:  {name}\")\n",
    "    print(f\"Maximum value:  {max(numbers)}\\n\")\n"
   ]
  },
  {
   "cell_type": "code",
   "execution_count": null,
   "id": "a293ff92-3a6c-46ee-83ad-d030b0d8b65d",
   "metadata": {},
   "outputs": [],
   "source": []
  }
 ],
 "metadata": {
  "kernelspec": {
   "display_name": "Python [conda env:base] *",
   "language": "python",
   "name": "conda-base-py"
  },
  "language_info": {
   "codemirror_mode": {
    "name": "ipython",
    "version": 3
   },
   "file_extension": ".py",
   "mimetype": "text/x-python",
   "name": "python",
   "nbconvert_exporter": "python",
   "pygments_lexer": "ipython3",
   "version": "3.12.7"
  }
 },
 "nbformat": 4,
 "nbformat_minor": 5
}
